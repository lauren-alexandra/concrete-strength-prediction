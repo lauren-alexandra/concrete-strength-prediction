{
 "cells": [
  {
   "cell_type": "markdown",
   "metadata": {
    "ExecuteTime": {
     "end_time": "2020-10-25T09:31:50.875884Z",
     "start_time": "2020-10-25T09:31:49.451304Z"
    }
   },
   "source": [
    "## Concrete Strength Prediction"
   ]
  },
  {
   "cell_type": "markdown",
   "metadata": {},
   "source": [
    "#### Attributes\n",
    "\n",
    "Given are the variable name, variable type, the measurement unit, and a brief description. The concrete compressive strength is the regression problem. The order of this listing corresponds to the order of numerals along the rows of the database.\n",
    "\n",
    "\n",
    "Name\t                               \n",
    "1.\tCement (cement)\t                        \n",
    "2.\tBlast Furnace Slag (slag)\t            \n",
    "3.\tFly Ash (ash)\t                      \n",
    "4.\tWater (water)\t                        \n",
    "5.\tSuperplasticizer (superplastic)\t       \n",
    "6.\tCoarse Aggregate (coarseagg)\t       \n",
    "7.\tFine Aggregate (fineagg)\t           \n",
    "8.\tAge (age)\t                         \n",
    "9.\tConcrete compressive strength (strength)\t\n",
    "\n",
    "Data Type\n",
    "1. quantitative\n",
    "2. quantitative\n",
    "3. quantitative\n",
    "4. quantitative\n",
    "5. quantitative\n",
    "6. quantitative\n",
    "7. quantitative\n",
    "8. quantitative\n",
    "9. quantitative\n",
    "\n",
    "Measurement\n",
    "1. kg in a m3 mixture\n",
    "2. kg in a m3 mixture\n",
    "3. kg in a m3 mixture\n",
    "4. kg in a m3 mixture\n",
    "5. kg in a m3 mixture\n",
    "6. kg in a m3 mixture\n",
    "7. kg in a m3 mixture\n",
    "8. day\n",
    "9. MPa, megapascals\n",
    "\n",
    "Description\n",
    "1. Input Variable\n",
    "2. Input Variable\n",
    "3. Input Variable\n",
    "4. Input Variable\n",
    "5. Input Variable\n",
    "6. Input Variable\n",
    "7. Input Variable\n",
    "8. Input Variable\n",
    "9. Output Variable"
   ]
  },
  {
   "cell_type": "code",
   "execution_count": 37,
   "metadata": {},
   "outputs": [],
   "source": [
    "import warnings\n",
    "warnings.filterwarnings('ignore')\n",
    "import numpy as np\n",
    "import pandas as pd\n",
    "import matplotlib.pyplot as plt\n",
    "import seaborn as sns\n",
    "%matplotlib inline\n",
    "from sklearn.model_selection import train_test_split\n",
    "from sklearn.model_selection import cross_val_score"
   ]
  },
  {
   "cell_type": "code",
   "execution_count": 23,
   "metadata": {},
   "outputs": [
    {
     "data": {
      "text/html": [
       "<div>\n",
       "<style scoped>\n",
       "    .dataframe tbody tr th:only-of-type {\n",
       "        vertical-align: middle;\n",
       "    }\n",
       "\n",
       "    .dataframe tbody tr th {\n",
       "        vertical-align: top;\n",
       "    }\n",
       "\n",
       "    .dataframe thead th {\n",
       "        text-align: right;\n",
       "    }\n",
       "</style>\n",
       "<table border=\"1\" class=\"dataframe\">\n",
       "  <thead>\n",
       "    <tr style=\"text-align: right;\">\n",
       "      <th></th>\n",
       "      <th>cement</th>\n",
       "      <th>blast_furnace_slag</th>\n",
       "      <th>fly_ash</th>\n",
       "      <th>water</th>\n",
       "      <th>superplasticizer</th>\n",
       "      <th>coarse_aggregate</th>\n",
       "      <th>fine_aggregate</th>\n",
       "      <th>age</th>\n",
       "      <th>concrete_compressive_strength</th>\n",
       "    </tr>\n",
       "  </thead>\n",
       "  <tbody>\n",
       "    <tr>\n",
       "      <th>0</th>\n",
       "      <td>540.0</td>\n",
       "      <td>0.0</td>\n",
       "      <td>0.0</td>\n",
       "      <td>162.0</td>\n",
       "      <td>2.5</td>\n",
       "      <td>1040.0</td>\n",
       "      <td>676.0</td>\n",
       "      <td>28</td>\n",
       "      <td>79.986111</td>\n",
       "    </tr>\n",
       "    <tr>\n",
       "      <th>1</th>\n",
       "      <td>540.0</td>\n",
       "      <td>0.0</td>\n",
       "      <td>0.0</td>\n",
       "      <td>162.0</td>\n",
       "      <td>2.5</td>\n",
       "      <td>1055.0</td>\n",
       "      <td>676.0</td>\n",
       "      <td>28</td>\n",
       "      <td>61.887366</td>\n",
       "    </tr>\n",
       "    <tr>\n",
       "      <th>2</th>\n",
       "      <td>332.5</td>\n",
       "      <td>142.5</td>\n",
       "      <td>0.0</td>\n",
       "      <td>228.0</td>\n",
       "      <td>0.0</td>\n",
       "      <td>932.0</td>\n",
       "      <td>594.0</td>\n",
       "      <td>270</td>\n",
       "      <td>40.269535</td>\n",
       "    </tr>\n",
       "    <tr>\n",
       "      <th>3</th>\n",
       "      <td>332.5</td>\n",
       "      <td>142.5</td>\n",
       "      <td>0.0</td>\n",
       "      <td>228.0</td>\n",
       "      <td>0.0</td>\n",
       "      <td>932.0</td>\n",
       "      <td>594.0</td>\n",
       "      <td>365</td>\n",
       "      <td>41.052780</td>\n",
       "    </tr>\n",
       "    <tr>\n",
       "      <th>4</th>\n",
       "      <td>198.6</td>\n",
       "      <td>132.4</td>\n",
       "      <td>0.0</td>\n",
       "      <td>192.0</td>\n",
       "      <td>0.0</td>\n",
       "      <td>978.4</td>\n",
       "      <td>825.5</td>\n",
       "      <td>360</td>\n",
       "      <td>44.296075</td>\n",
       "    </tr>\n",
       "  </tbody>\n",
       "</table>\n",
       "</div>"
      ],
      "text/plain": [
       "   cement  blast_furnace_slag  fly_ash  water  superplasticizer  \\\n",
       "0   540.0                 0.0      0.0  162.0               2.5   \n",
       "1   540.0                 0.0      0.0  162.0               2.5   \n",
       "2   332.5               142.5      0.0  228.0               0.0   \n",
       "3   332.5               142.5      0.0  228.0               0.0   \n",
       "4   198.6               132.4      0.0  192.0               0.0   \n",
       "\n",
       "   coarse_aggregate  fine_aggregate  age  concrete_compressive_strength  \n",
       "0            1040.0           676.0   28                      79.986111  \n",
       "1            1055.0           676.0   28                      61.887366  \n",
       "2             932.0           594.0  270                      40.269535  \n",
       "3             932.0           594.0  365                      41.052780  \n",
       "4             978.4           825.5  360                      44.296075  "
      ]
     },
     "execution_count": 23,
     "metadata": {},
     "output_type": "execute_result"
    }
   ],
   "source": [
    "df = pd.read_excel('Concrete_Data.xls', sheet_name='Sheet1')\n",
    "df.rename(columns={ df.columns[0]: \"cement\", df.columns[1]: \"blast_furnace_slag\", df.columns[2]: \"fly_ash\", df.columns[3]: \"water\", df.columns[4]: \"superplasticizer\", df.columns[5]: \"coarse_aggregate\", df.columns[6]: \"fine_aggregate\", df.columns[7]: \"age\", df.columns[8]: \"concrete_compressive_strength\" }, inplace = True)\n",
    "df.head()"
   ]
  },
  {
   "cell_type": "markdown",
   "metadata": {},
   "source": [
    "## Exploratory Data Quality Report"
   ]
  },
  {
   "cell_type": "code",
   "execution_count": 3,
   "metadata": {},
   "outputs": [
    {
     "data": {
      "text/plain": [
       "(1030, 9)"
      ]
     },
     "execution_count": 3,
     "metadata": {},
     "output_type": "execute_result"
    }
   ],
   "source": [
    "df.shape"
   ]
  },
  {
   "cell_type": "code",
   "execution_count": 4,
   "metadata": {},
   "outputs": [
    {
     "data": {
      "text/plain": [
       "False"
      ]
     },
     "execution_count": 4,
     "metadata": {},
     "output_type": "execute_result"
    }
   ],
   "source": [
    "df.isnull().values.any()"
   ]
  },
  {
   "cell_type": "code",
   "execution_count": 5,
   "metadata": {},
   "outputs": [
    {
     "name": "stdout",
     "output_type": "stream",
     "text": [
      "<class 'pandas.core.frame.DataFrame'>\n",
      "RangeIndex: 1030 entries, 0 to 1029\n",
      "Data columns (total 9 columns):\n",
      " #   Column                         Non-Null Count  Dtype  \n",
      "---  ------                         --------------  -----  \n",
      " 0   cement                         1030 non-null   float64\n",
      " 1   blast_furnace_slag             1030 non-null   float64\n",
      " 2   fly_ash                        1030 non-null   float64\n",
      " 3   water                          1030 non-null   float64\n",
      " 4   superplasticizer               1030 non-null   float64\n",
      " 5   coarse_aggregate               1030 non-null   float64\n",
      " 6   fine_aggregate                 1030 non-null   float64\n",
      " 7   age                            1030 non-null   int64  \n",
      " 8   concrete_compressive_strength  1030 non-null   float64\n",
      "dtypes: float64(8), int64(1)\n",
      "memory usage: 72.5 KB\n"
     ]
    }
   ],
   "source": [
    "df.info()"
   ]
  },
  {
   "cell_type": "code",
   "execution_count": 6,
   "metadata": {},
   "outputs": [
    {
     "data": {
      "text/html": [
       "<div>\n",
       "<style scoped>\n",
       "    .dataframe tbody tr th:only-of-type {\n",
       "        vertical-align: middle;\n",
       "    }\n",
       "\n",
       "    .dataframe tbody tr th {\n",
       "        vertical-align: top;\n",
       "    }\n",
       "\n",
       "    .dataframe thead th {\n",
       "        text-align: right;\n",
       "    }\n",
       "</style>\n",
       "<table border=\"1\" class=\"dataframe\">\n",
       "  <thead>\n",
       "    <tr style=\"text-align: right;\">\n",
       "      <th></th>\n",
       "      <th>cement</th>\n",
       "      <th>blast_furnace_slag</th>\n",
       "      <th>fly_ash</th>\n",
       "      <th>water</th>\n",
       "      <th>superplasticizer</th>\n",
       "      <th>coarse_aggregate</th>\n",
       "      <th>fine_aggregate</th>\n",
       "      <th>age</th>\n",
       "      <th>concrete_compressive_strength</th>\n",
       "    </tr>\n",
       "  </thead>\n",
       "  <tbody>\n",
       "    <tr>\n",
       "      <th>count</th>\n",
       "      <td>1030.000000</td>\n",
       "      <td>1030.000000</td>\n",
       "      <td>1030.000000</td>\n",
       "      <td>1030.000000</td>\n",
       "      <td>1030.000000</td>\n",
       "      <td>1030.000000</td>\n",
       "      <td>1030.000000</td>\n",
       "      <td>1030.000000</td>\n",
       "      <td>1030.000000</td>\n",
       "    </tr>\n",
       "    <tr>\n",
       "      <th>mean</th>\n",
       "      <td>281.165631</td>\n",
       "      <td>73.895485</td>\n",
       "      <td>54.187136</td>\n",
       "      <td>181.566359</td>\n",
       "      <td>6.203112</td>\n",
       "      <td>972.918592</td>\n",
       "      <td>773.578883</td>\n",
       "      <td>45.662136</td>\n",
       "      <td>35.817836</td>\n",
       "    </tr>\n",
       "    <tr>\n",
       "      <th>std</th>\n",
       "      <td>104.507142</td>\n",
       "      <td>86.279104</td>\n",
       "      <td>63.996469</td>\n",
       "      <td>21.355567</td>\n",
       "      <td>5.973492</td>\n",
       "      <td>77.753818</td>\n",
       "      <td>80.175427</td>\n",
       "      <td>63.169912</td>\n",
       "      <td>16.705679</td>\n",
       "    </tr>\n",
       "    <tr>\n",
       "      <th>min</th>\n",
       "      <td>102.000000</td>\n",
       "      <td>0.000000</td>\n",
       "      <td>0.000000</td>\n",
       "      <td>121.750000</td>\n",
       "      <td>0.000000</td>\n",
       "      <td>801.000000</td>\n",
       "      <td>594.000000</td>\n",
       "      <td>1.000000</td>\n",
       "      <td>2.331808</td>\n",
       "    </tr>\n",
       "    <tr>\n",
       "      <th>25%</th>\n",
       "      <td>192.375000</td>\n",
       "      <td>0.000000</td>\n",
       "      <td>0.000000</td>\n",
       "      <td>164.900000</td>\n",
       "      <td>0.000000</td>\n",
       "      <td>932.000000</td>\n",
       "      <td>730.950000</td>\n",
       "      <td>7.000000</td>\n",
       "      <td>23.707115</td>\n",
       "    </tr>\n",
       "    <tr>\n",
       "      <th>50%</th>\n",
       "      <td>272.900000</td>\n",
       "      <td>22.000000</td>\n",
       "      <td>0.000000</td>\n",
       "      <td>185.000000</td>\n",
       "      <td>6.350000</td>\n",
       "      <td>968.000000</td>\n",
       "      <td>779.510000</td>\n",
       "      <td>28.000000</td>\n",
       "      <td>34.442774</td>\n",
       "    </tr>\n",
       "    <tr>\n",
       "      <th>75%</th>\n",
       "      <td>350.000000</td>\n",
       "      <td>142.950000</td>\n",
       "      <td>118.270000</td>\n",
       "      <td>192.000000</td>\n",
       "      <td>10.160000</td>\n",
       "      <td>1029.400000</td>\n",
       "      <td>824.000000</td>\n",
       "      <td>56.000000</td>\n",
       "      <td>46.136287</td>\n",
       "    </tr>\n",
       "    <tr>\n",
       "      <th>max</th>\n",
       "      <td>540.000000</td>\n",
       "      <td>359.400000</td>\n",
       "      <td>200.100000</td>\n",
       "      <td>247.000000</td>\n",
       "      <td>32.200000</td>\n",
       "      <td>1145.000000</td>\n",
       "      <td>992.600000</td>\n",
       "      <td>365.000000</td>\n",
       "      <td>82.599225</td>\n",
       "    </tr>\n",
       "  </tbody>\n",
       "</table>\n",
       "</div>"
      ],
      "text/plain": [
       "            cement  blast_furnace_slag      fly_ash        water  \\\n",
       "count  1030.000000         1030.000000  1030.000000  1030.000000   \n",
       "mean    281.165631           73.895485    54.187136   181.566359   \n",
       "std     104.507142           86.279104    63.996469    21.355567   \n",
       "min     102.000000            0.000000     0.000000   121.750000   \n",
       "25%     192.375000            0.000000     0.000000   164.900000   \n",
       "50%     272.900000           22.000000     0.000000   185.000000   \n",
       "75%     350.000000          142.950000   118.270000   192.000000   \n",
       "max     540.000000          359.400000   200.100000   247.000000   \n",
       "\n",
       "       superplasticizer  coarse_aggregate  fine_aggregate          age  \\\n",
       "count       1030.000000       1030.000000     1030.000000  1030.000000   \n",
       "mean           6.203112        972.918592      773.578883    45.662136   \n",
       "std            5.973492         77.753818       80.175427    63.169912   \n",
       "min            0.000000        801.000000      594.000000     1.000000   \n",
       "25%            0.000000        932.000000      730.950000     7.000000   \n",
       "50%            6.350000        968.000000      779.510000    28.000000   \n",
       "75%           10.160000       1029.400000      824.000000    56.000000   \n",
       "max           32.200000       1145.000000      992.600000   365.000000   \n",
       "\n",
       "       concrete_compressive_strength  \n",
       "count                    1030.000000  \n",
       "mean                       35.817836  \n",
       "std                        16.705679  \n",
       "min                         2.331808  \n",
       "25%                        23.707115  \n",
       "50%                        34.442774  \n",
       "75%                        46.136287  \n",
       "max                        82.599225  "
      ]
     },
     "execution_count": 6,
     "metadata": {},
     "output_type": "execute_result"
    }
   ],
   "source": [
    "df.describe()"
   ]
  },
  {
   "cell_type": "code",
   "execution_count": 7,
   "metadata": {},
   "outputs": [
    {
     "data": {
      "image/png": "[encoded data removed]",
      "text/plain": [
       "<Figure size 432x288 with 1 Axes>"
      ]
     },
     "metadata": {
      "needs_background": "light"
     },
     "output_type": "display_data"
    }
   ],
   "source": [
    "sns.distplot(df['concrete_compressive_strength'])\n",
    "plt.show()"
   ]
  },
  {
   "cell_type": "code",
   "execution_count": 8,
   "metadata": {},
   "outputs": [
    {
     "data": {
      "image/png": "[encoded data removed]",
      "text/plain": [
       "<Figure size 432x288 with 1 Axes>"
      ]
     },
     "metadata": {
      "needs_background": "light"
     },
     "output_type": "display_data"
    }
   ],
   "source": [
    "sns.boxplot(df['age'])\n",
    "plt.show()"
   ]
  },
  {
   "cell_type": "code",
   "execution_count": 9,
   "metadata": {},
   "outputs": [
    {
     "data": {
      "image/png": "[encoded data removed]",
      "text/plain": [
       "<Figure size 720x576 with 1 Axes>"
      ]
     },
     "metadata": {
      "needs_background": "light"
     },
     "output_type": "display_data"
    }
   ],
   "source": [
    "plt.figure(figsize=(10,8))\n",
    "\n",
    "sns.heatmap(df.corr(),\n",
    "            annot=True,\n",
    "            linewidths=.5,\n",
    "            center=0,\n",
    "            cbar=False,\n",
    "            cmap=\"YlGnBu\")\n",
    "\n",
    "plt.show()"
   ]
  },
  {
   "cell_type": "code",
   "execution_count": 24,
   "metadata": {},
   "outputs": [],
   "source": [
    "df['aggregate'] = df[['coarse_aggregate', 'fine_aggregate']].mean(axis = 1)\n",
    "df.drop(['coarse_aggregate', 'fine_aggregate'], axis=1, inplace=True)\n",
    "df['concrete_compressive_strength'] = df['concrete_compressive_strength'].astype(int)"
   ]
  },
  {
   "cell_type": "code",
   "execution_count": 25,
   "metadata": {},
   "outputs": [
    {
     "data": {
      "text/html": [
       "<div>\n",
       "<style scoped>\n",
       "    .dataframe tbody tr th:only-of-type {\n",
       "        vertical-align: middle;\n",
       "    }\n",
       "\n",
       "    .dataframe tbody tr th {\n",
       "        vertical-align: top;\n",
       "    }\n",
       "\n",
       "    .dataframe thead th {\n",
       "        text-align: right;\n",
       "    }\n",
       "</style>\n",
       "<table border=\"1\" class=\"dataframe\">\n",
       "  <thead>\n",
       "    <tr style=\"text-align: right;\">\n",
       "      <th></th>\n",
       "      <th>cement</th>\n",
       "      <th>blast_furnace_slag</th>\n",
       "      <th>fly_ash</th>\n",
       "      <th>water</th>\n",
       "      <th>superplasticizer</th>\n",
       "      <th>age</th>\n",
       "      <th>concrete_compressive_strength</th>\n",
       "      <th>aggregate</th>\n",
       "    </tr>\n",
       "  </thead>\n",
       "  <tbody>\n",
       "    <tr>\n",
       "      <th>0</th>\n",
       "      <td>540.0</td>\n",
       "      <td>0.0</td>\n",
       "      <td>0.0</td>\n",
       "      <td>162.0</td>\n",
       "      <td>2.5</td>\n",
       "      <td>28</td>\n",
       "      <td>79</td>\n",
       "      <td>858.00</td>\n",
       "    </tr>\n",
       "    <tr>\n",
       "      <th>1</th>\n",
       "      <td>540.0</td>\n",
       "      <td>0.0</td>\n",
       "      <td>0.0</td>\n",
       "      <td>162.0</td>\n",
       "      <td>2.5</td>\n",
       "      <td>28</td>\n",
       "      <td>61</td>\n",
       "      <td>865.50</td>\n",
       "    </tr>\n",
       "    <tr>\n",
       "      <th>2</th>\n",
       "      <td>332.5</td>\n",
       "      <td>142.5</td>\n",
       "      <td>0.0</td>\n",
       "      <td>228.0</td>\n",
       "      <td>0.0</td>\n",
       "      <td>270</td>\n",
       "      <td>40</td>\n",
       "      <td>763.00</td>\n",
       "    </tr>\n",
       "    <tr>\n",
       "      <th>3</th>\n",
       "      <td>332.5</td>\n",
       "      <td>142.5</td>\n",
       "      <td>0.0</td>\n",
       "      <td>228.0</td>\n",
       "      <td>0.0</td>\n",
       "      <td>365</td>\n",
       "      <td>41</td>\n",
       "      <td>763.00</td>\n",
       "    </tr>\n",
       "    <tr>\n",
       "      <th>4</th>\n",
       "      <td>198.6</td>\n",
       "      <td>132.4</td>\n",
       "      <td>0.0</td>\n",
       "      <td>192.0</td>\n",
       "      <td>0.0</td>\n",
       "      <td>360</td>\n",
       "      <td>44</td>\n",
       "      <td>901.95</td>\n",
       "    </tr>\n",
       "  </tbody>\n",
       "</table>\n",
       "</div>"
      ],
      "text/plain": [
       "   cement  blast_furnace_slag  fly_ash  water  superplasticizer  age  \\\n",
       "0   540.0                 0.0      0.0  162.0               2.5   28   \n",
       "1   540.0                 0.0      0.0  162.0               2.5   28   \n",
       "2   332.5               142.5      0.0  228.0               0.0  270   \n",
       "3   332.5               142.5      0.0  228.0               0.0  365   \n",
       "4   198.6               132.4      0.0  192.0               0.0  360   \n",
       "\n",
       "   concrete_compressive_strength  aggregate  \n",
       "0                             79     858.00  \n",
       "1                             61     865.50  \n",
       "2                             40     763.00  \n",
       "3                             41     763.00  \n",
       "4                             44     901.95  "
      ]
     },
     "execution_count": 25,
     "metadata": {},
     "output_type": "execute_result"
    }
   ],
   "source": [
    "df.head()"
   ]
  },
  {
   "cell_type": "code",
   "execution_count": 26,
   "metadata": {},
   "outputs": [],
   "source": [
    "all_features = df.columns.tolist()\n",
    "all_features.remove('concrete_compressive_strength')\n",
    "\n",
    "correlated_features = set()\n",
    "correlation_threshold = 0.9\n",
    "\n",
    "corr_df = df[all_features].corr()\n",
    "\n",
    "for i in range(len(corr_df.columns)):\n",
    "    for j in range(i):\n",
    "        if abs(corr_df.iloc[i, j]) > correlation_threshold:\n",
    "            colname = corr_df.columns[i]\n",
    "            correlated_features.add(colname)"
   ]
  },
  {
   "cell_type": "code",
   "execution_count": 27,
   "metadata": {},
   "outputs": [
    {
     "data": {
      "text/plain": [
       "['cement',\n",
       " 'blast_furnace_slag',\n",
       " 'fly_ash',\n",
       " 'water',\n",
       " 'superplasticizer',\n",
       " 'age',\n",
       " 'aggregate']"
      ]
     },
     "execution_count": 27,
     "metadata": {},
     "output_type": "execute_result"
    }
   ],
   "source": [
    "df.drop(columns=correlated_features, inplace=True)\n",
    "\n",
    "for feature in correlated_features:\n",
    "    all_features.remove(feature)\n",
    "\n",
    "all_features"
   ]
  },
  {
   "cell_type": "code",
   "execution_count": 28,
   "metadata": {},
   "outputs": [],
   "source": [
    "X = df[all_features]\n",
    "y = df['concrete_compressive_strength']\n",
    "SEED = 123\n",
    "\n",
    "X_train, X_validation, y_train, y_validation = train_test_split(X,\n",
    "                                                                y,\n",
    "                                                                random_state = SEED)"
   ]
  },
  {
   "cell_type": "markdown",
   "metadata": {},
   "source": [
    "## Creating the Model and Tuning It"
   ]
  },
  {
   "cell_type": "code",
   "execution_count": 29,
   "metadata": {},
   "outputs": [
    {
     "name": "stdout",
     "output_type": "stream",
     "text": [
      "Accuracy = 0.6055823234700735\n"
     ]
    }
   ],
   "source": [
    "from sklearn.linear_model import LinearRegression\n",
    "lr = LinearRegression()\n",
    "lr.fit(X_train, y_train)\n",
    "\n",
    "score = lr.score(X_validation, y_validation)\n",
    "print(f'Accuracy = {score}')"
   ]
  },
  {
   "cell_type": "code",
   "execution_count": 38,
   "metadata": {},
   "outputs": [
    {
     "name": "stdout",
     "output_type": "stream",
     "text": [
      "Cross validation score = 0.4746150119520813\n"
     ]
    }
   ],
   "source": [
    "score_val = cross_val_score(lr, X, y, cv = 5)\n",
    "score1 =score_val.mean()\n",
    "print(f'Cross validation score = {score1}')"
   ]
  },
  {
   "cell_type": "code",
   "execution_count": 34,
   "metadata": {},
   "outputs": [
    {
     "name": "stdout",
     "output_type": "stream",
     "text": [
      "Accuracy = 0.8258215960398763\n"
     ]
    }
   ],
   "source": [
    "from sklearn.tree import DecisionTreeRegressor\n",
    "\n",
    "dt = DecisionTreeRegressor()\n",
    "dt.fit(X_train, y_train)\n",
    "score = dt.score(X_validation, y_validation)\n",
    "print(f'Accuracy = {score}')"
   ]
  },
  {
   "cell_type": "code",
   "execution_count": 39,
   "metadata": {},
   "outputs": [
    {
     "name": "stdout",
     "output_type": "stream",
     "text": [
      "Cross validation score = 0.31478172952127703\n"
     ]
    }
   ],
   "source": [
    "score_val = cross_val_score(dt, X, y, cv = 5)\n",
    "score1 =score_val.mean()\n",
    "print(f'Cross validation score = {score1}')"
   ]
  },
  {
   "cell_type": "code",
   "execution_count": 35,
   "metadata": {},
   "outputs": [
    {
     "name": "stdout",
     "output_type": "stream",
     "text": [
      "Accuracy = 0.9077128090873785\n"
     ]
    }
   ],
   "source": [
    "from sklearn.ensemble import BaggingRegressor\n",
    "\n",
    "bg = BaggingRegressor()\n",
    "bg.fit(X_train, y_train)\n",
    "score = bg.score(X_validation, y_validation)\n",
    "print(f'Accuracy = {score}')"
   ]
  },
  {
   "cell_type": "code",
   "execution_count": 40,
   "metadata": {},
   "outputs": [
    {
     "name": "stdout",
     "output_type": "stream",
     "text": [
      "Cross validation score = 0.2676013426858458\n"
     ]
    }
   ],
   "source": [
    "score_val = cross_val_score(bg, X, y, cv = 5)\n",
    "score1 =score_val.mean()\n",
    "print(f'Cross validation score = {score1}')"
   ]
  },
  {
   "cell_type": "code",
   "execution_count": 36,
   "metadata": {},
   "outputs": [
    {
     "name": "stdout",
     "output_type": "stream",
     "text": [
      "Accuracy = 0.914932254962699\n"
     ]
    }
   ],
   "source": [
    "from sklearn.ensemble import GradientBoostingRegressor\n",
    "\n",
    "gbr = BaggingRegressor()\n",
    "gbr.fit(X_train, y_train)\n",
    "score = gbr.score(X_validation, y_validation)\n",
    "print(f'Accuracy = {score}')"
   ]
  },
  {
   "cell_type": "code",
   "execution_count": 41,
   "metadata": {},
   "outputs": [
    {
     "name": "stdout",
     "output_type": "stream",
     "text": [
      "Cross validation score = 0.2641195820955998\n"
     ]
    }
   ],
   "source": [
    "score_val = cross_val_score(gbr, X, y, cv = 5)\n",
    "score1 =score_val.mean()\n",
    "print(f'Cross validation score = {score1}')"
   ]
  },
  {
   "cell_type": "code",
   "execution_count": 67,
   "metadata": {},
   "outputs": [],
   "source": [
    "from sklearn.model_selection import RandomizedSearchCV"
   ]
  },
  {
   "cell_type": "code",
   "execution_count": 44,
   "metadata": {},
   "outputs": [
    {
     "name": "stdout",
     "output_type": "stream",
     "text": [
      "Fitting 5 folds for each of 10 candidates, totalling 50 fits\n"
     ]
    },
    {
     "name": "stderr",
     "output_type": "stream",
     "text": [
      "[Parallel(n_jobs=-1)]: Using backend LokyBackend with 4 concurrent workers.\n",
      "[Parallel(n_jobs=-1)]: Done  33 tasks      | elapsed:    7.1s\n",
      "[Parallel(n_jobs=-1)]: Done  50 out of  50 | elapsed:    8.9s finished\n"
     ]
    },
    {
     "data": {
      "text/plain": [
       "RandomizedSearchCV(cv=5, estimator=GradientBoostingRegressor(), n_jobs=-1,\n",
       "                   param_distributions={'max_depth': [1, 3, 7, 10],\n",
       "                                        'max_features': ['auto', 'sqrt'],\n",
       "                                        'n_estimators': [10, 100, 300, 500]},\n",
       "                   verbose=2)"
      ]
     },
     "execution_count": 44,
     "metadata": {},
     "output_type": "execute_result"
    }
   ],
   "source": [
    "parameters = {'max_depth': [1,3,7,10],\n",
    "              'max_features': ['auto', 'sqrt'],\n",
    "              'n_estimators': [10,100,300,500]}\n",
    "\n",
    "\n",
    "clf = RandomizedSearchCV(GradientBoostingRegressor(),\n",
    "                         parameters,\n",
    "                         cv = 5,\n",
    "                         verbose = 2,\n",
    "                         n_jobs= -1,\n",
    "                        n_iter=10)\n",
    "clf.fit(X, y)"
   ]
  },
  {
   "cell_type": "code",
   "execution_count": 45,
   "metadata": {},
   "outputs": [
    {
     "data": {
      "text/plain": [
       "(0.5572406396104805,\n",
       " {'n_estimators': 300, 'max_features': 'sqrt', 'max_depth': 3})"
      ]
     },
     "execution_count": 45,
     "metadata": {},
     "output_type": "execute_result"
    }
   ],
   "source": [
    "clf.best_score_, clf.best_params_"
   ]
  },
  {
   "cell_type": "code",
   "execution_count": 46,
   "metadata": {},
   "outputs": [
    {
     "data": {
      "text/html": [
       "<div>\n",
       "<style scoped>\n",
       "    .dataframe tbody tr th:only-of-type {\n",
       "        vertical-align: middle;\n",
       "    }\n",
       "\n",
       "    .dataframe tbody tr th {\n",
       "        vertical-align: top;\n",
       "    }\n",
       "\n",
       "    .dataframe thead th {\n",
       "        text-align: right;\n",
       "    }\n",
       "</style>\n",
       "<table border=\"1\" class=\"dataframe\">\n",
       "  <thead>\n",
       "    <tr style=\"text-align: right;\">\n",
       "      <th></th>\n",
       "      <th>mean_fit_time</th>\n",
       "      <th>std_fit_time</th>\n",
       "      <th>mean_score_time</th>\n",
       "      <th>std_score_time</th>\n",
       "      <th>param_n_estimators</th>\n",
       "      <th>param_max_features</th>\n",
       "      <th>param_max_depth</th>\n",
       "      <th>params</th>\n",
       "      <th>split0_test_score</th>\n",
       "      <th>split1_test_score</th>\n",
       "      <th>split2_test_score</th>\n",
       "      <th>split3_test_score</th>\n",
       "      <th>split4_test_score</th>\n",
       "      <th>mean_test_score</th>\n",
       "      <th>std_test_score</th>\n",
       "      <th>rank_test_score</th>\n",
       "    </tr>\n",
       "  </thead>\n",
       "  <tbody>\n",
       "    <tr>\n",
       "      <th>0</th>\n",
       "      <td>0.065793</td>\n",
       "      <td>0.005350</td>\n",
       "      <td>0.004381</td>\n",
       "      <td>0.001469</td>\n",
       "      <td>100</td>\n",
       "      <td>sqrt</td>\n",
       "      <td>1</td>\n",
       "      <td>{'n_estimators': 100, 'max_features': 'sqrt', ...</td>\n",
       "      <td>0.602826</td>\n",
       "      <td>0.649012</td>\n",
       "      <td>0.747232</td>\n",
       "      <td>0.755783</td>\n",
       "      <td>-0.588608</td>\n",
       "      <td>0.433249</td>\n",
       "      <td>0.514221</td>\n",
       "      <td>6</td>\n",
       "    </tr>\n",
       "    <tr>\n",
       "      <th>1</th>\n",
       "      <td>0.054904</td>\n",
       "      <td>0.007335</td>\n",
       "      <td>0.003221</td>\n",
       "      <td>0.000303</td>\n",
       "      <td>10</td>\n",
       "      <td>auto</td>\n",
       "      <td>10</td>\n",
       "      <td>{'n_estimators': 10, 'max_features': 'auto', '...</td>\n",
       "      <td>0.384972</td>\n",
       "      <td>0.521207</td>\n",
       "      <td>0.615897</td>\n",
       "      <td>0.641074</td>\n",
       "      <td>-0.395592</td>\n",
       "      <td>0.353512</td>\n",
       "      <td>0.385177</td>\n",
       "      <td>8</td>\n",
       "    </tr>\n",
       "    <tr>\n",
       "      <th>2</th>\n",
       "      <td>0.143065</td>\n",
       "      <td>0.001649</td>\n",
       "      <td>0.003484</td>\n",
       "      <td>0.000441</td>\n",
       "      <td>300</td>\n",
       "      <td>sqrt</td>\n",
       "      <td>1</td>\n",
       "      <td>{'n_estimators': 300, 'max_features': 'sqrt', ...</td>\n",
       "      <td>0.751918</td>\n",
       "      <td>0.671191</td>\n",
       "      <td>0.762253</td>\n",
       "      <td>0.882474</td>\n",
       "      <td>-0.417975</td>\n",
       "      <td>0.529972</td>\n",
       "      <td>0.478752</td>\n",
       "      <td>4</td>\n",
       "    </tr>\n",
       "    <tr>\n",
       "      <th>3</th>\n",
       "      <td>1.881276</td>\n",
       "      <td>0.061313</td>\n",
       "      <td>0.022002</td>\n",
       "      <td>0.018578</td>\n",
       "      <td>500</td>\n",
       "      <td>auto</td>\n",
       "      <td>10</td>\n",
       "      <td>{'n_estimators': 500, 'max_features': 'auto', ...</td>\n",
       "      <td>0.624995</td>\n",
       "      <td>0.497353</td>\n",
       "      <td>0.725517</td>\n",
       "      <td>0.834996</td>\n",
       "      <td>-1.073960</td>\n",
       "      <td>0.321780</td>\n",
       "      <td>0.706718</td>\n",
       "      <td>10</td>\n",
       "    </tr>\n",
       "    <tr>\n",
       "      <th>4</th>\n",
       "      <td>0.245672</td>\n",
       "      <td>0.038224</td>\n",
       "      <td>0.004283</td>\n",
       "      <td>0.000911</td>\n",
       "      <td>300</td>\n",
       "      <td>sqrt</td>\n",
       "      <td>3</td>\n",
       "      <td>{'n_estimators': 300, 'max_features': 'sqrt', ...</td>\n",
       "      <td>0.749299</td>\n",
       "      <td>0.712553</td>\n",
       "      <td>0.777777</td>\n",
       "      <td>0.913813</td>\n",
       "      <td>-0.367239</td>\n",
       "      <td>0.557241</td>\n",
       "      <td>0.467216</td>\n",
       "      <td>1</td>\n",
       "    </tr>\n",
       "    <tr>\n",
       "      <th>5</th>\n",
       "      <td>0.819305</td>\n",
       "      <td>0.042132</td>\n",
       "      <td>0.006706</td>\n",
       "      <td>0.002229</td>\n",
       "      <td>500</td>\n",
       "      <td>auto</td>\n",
       "      <td>3</td>\n",
       "      <td>{'n_estimators': 500, 'max_features': 'auto', ...</td>\n",
       "      <td>0.705878</td>\n",
       "      <td>0.629290</td>\n",
       "      <td>0.785757</td>\n",
       "      <td>0.913832</td>\n",
       "      <td>-0.327904</td>\n",
       "      <td>0.541371</td>\n",
       "      <td>0.444721</td>\n",
       "      <td>3</td>\n",
       "    </tr>\n",
       "    <tr>\n",
       "      <th>6</th>\n",
       "      <td>0.028232</td>\n",
       "      <td>0.006764</td>\n",
       "      <td>0.004280</td>\n",
       "      <td>0.001868</td>\n",
       "      <td>10</td>\n",
       "      <td>sqrt</td>\n",
       "      <td>10</td>\n",
       "      <td>{'n_estimators': 10, 'max_features': 'sqrt', '...</td>\n",
       "      <td>0.428410</td>\n",
       "      <td>0.545393</td>\n",
       "      <td>0.578174</td>\n",
       "      <td>0.583303</td>\n",
       "      <td>-0.372230</td>\n",
       "      <td>0.352610</td>\n",
       "      <td>0.366716</td>\n",
       "      <td>9</td>\n",
       "    </tr>\n",
       "    <tr>\n",
       "      <th>7</th>\n",
       "      <td>0.215837</td>\n",
       "      <td>0.014461</td>\n",
       "      <td>0.005274</td>\n",
       "      <td>0.004147</td>\n",
       "      <td>300</td>\n",
       "      <td>auto</td>\n",
       "      <td>1</td>\n",
       "      <td>{'n_estimators': 300, 'max_features': 'auto', ...</td>\n",
       "      <td>0.758606</td>\n",
       "      <td>0.674125</td>\n",
       "      <td>0.785020</td>\n",
       "      <td>0.877877</td>\n",
       "      <td>-0.346224</td>\n",
       "      <td>0.549881</td>\n",
       "      <td>0.452742</td>\n",
       "      <td>2</td>\n",
       "    </tr>\n",
       "    <tr>\n",
       "      <th>8</th>\n",
       "      <td>0.147386</td>\n",
       "      <td>0.012147</td>\n",
       "      <td>0.003203</td>\n",
       "      <td>0.000292</td>\n",
       "      <td>100</td>\n",
       "      <td>auto</td>\n",
       "      <td>3</td>\n",
       "      <td>{'n_estimators': 100, 'max_features': 'auto', ...</td>\n",
       "      <td>0.785319</td>\n",
       "      <td>0.677508</td>\n",
       "      <td>0.740442</td>\n",
       "      <td>0.888737</td>\n",
       "      <td>-0.725268</td>\n",
       "      <td>0.473348</td>\n",
       "      <td>0.603254</td>\n",
       "      <td>5</td>\n",
       "    </tr>\n",
       "    <tr>\n",
       "      <th>9</th>\n",
       "      <td>0.620973</td>\n",
       "      <td>0.106208</td>\n",
       "      <td>0.007418</td>\n",
       "      <td>0.000887</td>\n",
       "      <td>500</td>\n",
       "      <td>sqrt</td>\n",
       "      <td>7</td>\n",
       "      <td>{'n_estimators': 500, 'max_features': 'sqrt', ...</td>\n",
       "      <td>0.814891</td>\n",
       "      <td>0.675297</td>\n",
       "      <td>0.718535</td>\n",
       "      <td>0.881011</td>\n",
       "      <td>-1.115292</td>\n",
       "      <td>0.394889</td>\n",
       "      <td>0.758517</td>\n",
       "      <td>7</td>\n",
       "    </tr>\n",
       "  </tbody>\n",
       "</table>\n",
       "</div>"
      ],
      "text/plain": [
       "   mean_fit_time  std_fit_time  mean_score_time  std_score_time  \\\n",
       "0       0.065793      0.005350         0.004381        0.001469   \n",
       "1       0.054904      0.007335         0.003221        0.000303   \n",
       "2       0.143065      0.001649         0.003484        0.000441   \n",
       "3       1.881276      0.061313         0.022002        0.018578   \n",
       "4       0.245672      0.038224         0.004283        0.000911   \n",
       "5       0.819305      0.042132         0.006706        0.002229   \n",
       "6       0.028232      0.006764         0.004280        0.001868   \n",
       "7       0.215837      0.014461         0.005274        0.004147   \n",
       "8       0.147386      0.012147         0.003203        0.000292   \n",
       "9       0.620973      0.106208         0.007418        0.000887   \n",
       "\n",
       "  param_n_estimators param_max_features param_max_depth  \\\n",
       "0                100               sqrt               1   \n",
       "1                 10               auto              10   \n",
       "2                300               sqrt               1   \n",
       "3                500               auto              10   \n",
       "4                300               sqrt               3   \n",
       "5                500               auto               3   \n",
       "6                 10               sqrt              10   \n",
       "7                300               auto               1   \n",
       "8                100               auto               3   \n",
       "9                500               sqrt               7   \n",
       "\n",
       "                                              params  split0_test_score  \\\n",
       "0  {'n_estimators': 100, 'max_features': 'sqrt', ...           0.602826   \n",
       "1  {'n_estimators': 10, 'max_features': 'auto', '...           0.384972   \n",
       "2  {'n_estimators': 300, 'max_features': 'sqrt', ...           0.751918   \n",
       "3  {'n_estimators': 500, 'max_features': 'auto', ...           0.624995   \n",
       "4  {'n_estimators': 300, 'max_features': 'sqrt', ...           0.749299   \n",
       "5  {'n_estimators': 500, 'max_features': 'auto', ...           0.705878   \n",
       "6  {'n_estimators': 10, 'max_features': 'sqrt', '...           0.428410   \n",
       "7  {'n_estimators': 300, 'max_features': 'auto', ...           0.758606   \n",
       "8  {'n_estimators': 100, 'max_features': 'auto', ...           0.785319   \n",
       "9  {'n_estimators': 500, 'max_features': 'sqrt', ...           0.814891   \n",
       "\n",
       "   split1_test_score  split2_test_score  split3_test_score  split4_test_score  \\\n",
       "0           0.649012           0.747232           0.755783          -0.588608   \n",
       "1           0.521207           0.615897           0.641074          -0.395592   \n",
       "2           0.671191           0.762253           0.882474          -0.417975   \n",
       "3           0.497353           0.725517           0.834996          -1.073960   \n",
       "4           0.712553           0.777777           0.913813          -0.367239   \n",
       "5           0.629290           0.785757           0.913832          -0.327904   \n",
       "6           0.545393           0.578174           0.583303          -0.372230   \n",
       "7           0.674125           0.785020           0.877877          -0.346224   \n",
       "8           0.677508           0.740442           0.888737          -0.725268   \n",
       "9           0.675297           0.718535           0.881011          -1.115292   \n",
       "\n",
       "   mean_test_score  std_test_score  rank_test_score  \n",
       "0         0.433249        0.514221                6  \n",
       "1         0.353512        0.385177                8  \n",
       "2         0.529972        0.478752                4  \n",
       "3         0.321780        0.706718               10  \n",
       "4         0.557241        0.467216                1  \n",
       "5         0.541371        0.444721                3  \n",
       "6         0.352610        0.366716                9  \n",
       "7         0.549881        0.452742                2  \n",
       "8         0.473348        0.603254                5  \n",
       "9         0.394889        0.758517                7  "
      ]
     },
     "execution_count": 46,
     "metadata": {},
     "output_type": "execute_result"
    }
   ],
   "source": [
    "pd.DataFrame(clf.cv_results_)"
   ]
  },
  {
   "cell_type": "code",
   "execution_count": 71,
   "metadata": {},
   "outputs": [
    {
     "name": "stdout",
     "output_type": "stream",
     "text": [
      "Fitting 5 folds for each of 10 candidates, totalling 50 fits\n"
     ]
    },
    {
     "name": "stderr",
     "output_type": "stream",
     "text": [
      "[Parallel(n_jobs=-1)]: Using backend LokyBackend with 4 concurrent workers.\n",
      "[Parallel(n_jobs=-1)]: Done  50 out of  50 | elapsed:    0.3s finished\n"
     ]
    },
    {
     "data": {
      "text/plain": [
       "RandomizedSearchCV(cv=5, estimator=DecisionTreeRegressor(), n_jobs=-1,\n",
       "                   param_distributions={'max_depth': [1, 3, 7, 10],\n",
       "                                        'max_features': ['auto', 'sqrt'],\n",
       "                                        'min_samples_split': [2, 4, 6]},\n",
       "                   verbose=2)"
      ]
     },
     "execution_count": 71,
     "metadata": {},
     "output_type": "execute_result"
    }
   ],
   "source": [
    "parameters = {'max_depth': [1,3,7,10],\n",
    "              'max_features': ['auto', 'sqrt'],\n",
    "              'min_samples_split': [2, 4, 6]}\n",
    "\n",
    "\n",
    "clf = RandomizedSearchCV(DecisionTreeRegressor(),\n",
    "                         parameters,\n",
    "                         cv = 5,\n",
    "                         verbose = 2,\n",
    "                         n_jobs= -1,\n",
    "                         n_iter=10)\n",
    "clf.fit(X, y)"
   ]
  },
  {
   "cell_type": "code",
   "execution_count": 72,
   "metadata": {},
   "outputs": [
    {
     "data": {
      "text/plain": [
       "(0.31999670205602393,\n",
       " {'min_samples_split': 2, 'max_features': 'auto', 'max_depth': 10})"
      ]
     },
     "execution_count": 72,
     "metadata": {},
     "output_type": "execute_result"
    }
   ],
   "source": [
    "clf.best_score_, clf.best_params_"
   ]
  },
  {
   "cell_type": "code",
   "execution_count": 73,
   "metadata": {},
   "outputs": [
    {
     "data": {
      "text/html": [
       "<div>\n",
       "<style scoped>\n",
       "    .dataframe tbody tr th:only-of-type {\n",
       "        vertical-align: middle;\n",
       "    }\n",
       "\n",
       "    .dataframe tbody tr th {\n",
       "        vertical-align: top;\n",
       "    }\n",
       "\n",
       "    .dataframe thead th {\n",
       "        text-align: right;\n",
       "    }\n",
       "</style>\n",
       "<table border=\"1\" class=\"dataframe\">\n",
       "  <thead>\n",
       "    <tr style=\"text-align: right;\">\n",
       "      <th></th>\n",
       "      <th>mean_fit_time</th>\n",
       "      <th>std_fit_time</th>\n",
       "      <th>mean_score_time</th>\n",
       "      <th>std_score_time</th>\n",
       "      <th>param_min_samples_split</th>\n",
       "      <th>param_max_features</th>\n",
       "      <th>param_max_depth</th>\n",
       "      <th>params</th>\n",
       "      <th>split0_test_score</th>\n",
       "      <th>split1_test_score</th>\n",
       "      <th>split2_test_score</th>\n",
       "      <th>split3_test_score</th>\n",
       "      <th>split4_test_score</th>\n",
       "      <th>mean_test_score</th>\n",
       "      <th>std_test_score</th>\n",
       "      <th>rank_test_score</th>\n",
       "    </tr>\n",
       "  </thead>\n",
       "  <tbody>\n",
       "    <tr>\n",
       "      <th>0</th>\n",
       "      <td>0.005877</td>\n",
       "      <td>0.001149</td>\n",
       "      <td>0.004329</td>\n",
       "      <td>0.000864</td>\n",
       "      <td>2</td>\n",
       "      <td>sqrt</td>\n",
       "      <td>3</td>\n",
       "      <td>{'min_samples_split': 2, 'max_features': 'sqrt...</td>\n",
       "      <td>0.113369</td>\n",
       "      <td>0.316511</td>\n",
       "      <td>0.289032</td>\n",
       "      <td>0.099903</td>\n",
       "      <td>-1.558244</td>\n",
       "      <td>-0.147886</td>\n",
       "      <td>0.710679</td>\n",
       "      <td>8</td>\n",
       "    </tr>\n",
       "    <tr>\n",
       "      <th>1</th>\n",
       "      <td>0.005040</td>\n",
       "      <td>0.000861</td>\n",
       "      <td>0.002878</td>\n",
       "      <td>0.000341</td>\n",
       "      <td>6</td>\n",
       "      <td>sqrt</td>\n",
       "      <td>7</td>\n",
       "      <td>{'min_samples_split': 6, 'max_features': 'sqrt...</td>\n",
       "      <td>0.581659</td>\n",
       "      <td>-0.403671</td>\n",
       "      <td>0.316302</td>\n",
       "      <td>0.634330</td>\n",
       "      <td>-1.136214</td>\n",
       "      <td>-0.001519</td>\n",
       "      <td>0.677447</td>\n",
       "      <td>7</td>\n",
       "    </tr>\n",
       "    <tr>\n",
       "      <th>2</th>\n",
       "      <td>0.004013</td>\n",
       "      <td>0.000276</td>\n",
       "      <td>0.002545</td>\n",
       "      <td>0.000129</td>\n",
       "      <td>4</td>\n",
       "      <td>sqrt</td>\n",
       "      <td>3</td>\n",
       "      <td>{'min_samples_split': 4, 'max_features': 'sqrt...</td>\n",
       "      <td>0.139243</td>\n",
       "      <td>0.103458</td>\n",
       "      <td>0.590933</td>\n",
       "      <td>0.223150</td>\n",
       "      <td>-0.652125</td>\n",
       "      <td>0.080932</td>\n",
       "      <td>0.405366</td>\n",
       "      <td>3</td>\n",
       "    </tr>\n",
       "    <tr>\n",
       "      <th>3</th>\n",
       "      <td>0.008037</td>\n",
       "      <td>0.001882</td>\n",
       "      <td>0.003546</td>\n",
       "      <td>0.001225</td>\n",
       "      <td>6</td>\n",
       "      <td>auto</td>\n",
       "      <td>10</td>\n",
       "      <td>{'min_samples_split': 6, 'max_features': 'auto...</td>\n",
       "      <td>0.528248</td>\n",
       "      <td>0.384625</td>\n",
       "      <td>0.612619</td>\n",
       "      <td>0.712196</td>\n",
       "      <td>-0.835237</td>\n",
       "      <td>0.280490</td>\n",
       "      <td>0.568112</td>\n",
       "      <td>2</td>\n",
       "    </tr>\n",
       "    <tr>\n",
       "      <th>4</th>\n",
       "      <td>0.004064</td>\n",
       "      <td>0.000558</td>\n",
       "      <td>0.002467</td>\n",
       "      <td>0.000395</td>\n",
       "      <td>4</td>\n",
       "      <td>auto</td>\n",
       "      <td>3</td>\n",
       "      <td>{'min_samples_split': 4, 'max_features': 'auto...</td>\n",
       "      <td>0.330910</td>\n",
       "      <td>0.442759</td>\n",
       "      <td>0.598529</td>\n",
       "      <td>0.467877</td>\n",
       "      <td>-1.696249</td>\n",
       "      <td>0.028765</td>\n",
       "      <td>0.866695</td>\n",
       "      <td>5</td>\n",
       "    </tr>\n",
       "    <tr>\n",
       "      <th>5</th>\n",
       "      <td>0.005267</td>\n",
       "      <td>0.000661</td>\n",
       "      <td>0.002713</td>\n",
       "      <td>0.000641</td>\n",
       "      <td>2</td>\n",
       "      <td>auto</td>\n",
       "      <td>10</td>\n",
       "      <td>{'min_samples_split': 2, 'max_features': 'auto...</td>\n",
       "      <td>0.627415</td>\n",
       "      <td>0.484358</td>\n",
       "      <td>0.623524</td>\n",
       "      <td>0.782944</td>\n",
       "      <td>-0.918258</td>\n",
       "      <td>0.319997</td>\n",
       "      <td>0.626298</td>\n",
       "      <td>1</td>\n",
       "    </tr>\n",
       "    <tr>\n",
       "      <th>6</th>\n",
       "      <td>0.004604</td>\n",
       "      <td>0.001419</td>\n",
       "      <td>0.004184</td>\n",
       "      <td>0.001383</td>\n",
       "      <td>4</td>\n",
       "      <td>auto</td>\n",
       "      <td>1</td>\n",
       "      <td>{'min_samples_split': 4, 'max_features': 'auto...</td>\n",
       "      <td>-0.609861</td>\n",
       "      <td>-0.055477</td>\n",
       "      <td>-0.113478</td>\n",
       "      <td>-0.525901</td>\n",
       "      <td>-0.971403</td>\n",
       "      <td>-0.455224</td>\n",
       "      <td>0.338212</td>\n",
       "      <td>10</td>\n",
       "    </tr>\n",
       "    <tr>\n",
       "      <th>7</th>\n",
       "      <td>0.004248</td>\n",
       "      <td>0.000426</td>\n",
       "      <td>0.002151</td>\n",
       "      <td>0.000481</td>\n",
       "      <td>6</td>\n",
       "      <td>sqrt</td>\n",
       "      <td>10</td>\n",
       "      <td>{'min_samples_split': 6, 'max_features': 'sqrt...</td>\n",
       "      <td>0.313113</td>\n",
       "      <td>0.263491</td>\n",
       "      <td>0.152130</td>\n",
       "      <td>0.592755</td>\n",
       "      <td>-1.074489</td>\n",
       "      <td>0.049400</td>\n",
       "      <td>0.580395</td>\n",
       "      <td>4</td>\n",
       "    </tr>\n",
       "    <tr>\n",
       "      <th>8</th>\n",
       "      <td>0.004099</td>\n",
       "      <td>0.000669</td>\n",
       "      <td>0.002600</td>\n",
       "      <td>0.000663</td>\n",
       "      <td>2</td>\n",
       "      <td>auto</td>\n",
       "      <td>3</td>\n",
       "      <td>{'min_samples_split': 2, 'max_features': 'auto...</td>\n",
       "      <td>0.330910</td>\n",
       "      <td>0.442759</td>\n",
       "      <td>0.598529</td>\n",
       "      <td>0.467877</td>\n",
       "      <td>-1.696249</td>\n",
       "      <td>0.028765</td>\n",
       "      <td>0.866695</td>\n",
       "      <td>5</td>\n",
       "    </tr>\n",
       "    <tr>\n",
       "      <th>9</th>\n",
       "      <td>0.004913</td>\n",
       "      <td>0.000306</td>\n",
       "      <td>0.004711</td>\n",
       "      <td>0.002380</td>\n",
       "      <td>6</td>\n",
       "      <td>sqrt</td>\n",
       "      <td>1</td>\n",
       "      <td>{'min_samples_split': 6, 'max_features': 'sqrt...</td>\n",
       "      <td>-0.612135</td>\n",
       "      <td>-0.152637</td>\n",
       "      <td>0.154432</td>\n",
       "      <td>-0.525901</td>\n",
       "      <td>-0.971403</td>\n",
       "      <td>-0.421529</td>\n",
       "      <td>0.388232</td>\n",
       "      <td>9</td>\n",
       "    </tr>\n",
       "  </tbody>\n",
       "</table>\n",
       "</div>"
      ],
      "text/plain": [
       "   mean_fit_time  std_fit_time  mean_score_time  std_score_time  \\\n",
       "0       0.005877      0.001149         0.004329        0.000864   \n",
       "1       0.005040      0.000861         0.002878        0.000341   \n",
       "2       0.004013      0.000276         0.002545        0.000129   \n",
       "3       0.008037      0.001882         0.003546        0.001225   \n",
       "4       0.004064      0.000558         0.002467        0.000395   \n",
       "5       0.005267      0.000661         0.002713        0.000641   \n",
       "6       0.004604      0.001419         0.004184        0.001383   \n",
       "7       0.004248      0.000426         0.002151        0.000481   \n",
       "8       0.004099      0.000669         0.002600        0.000663   \n",
       "9       0.004913      0.000306         0.004711        0.002380   \n",
       "\n",
       "  param_min_samples_split param_max_features param_max_depth  \\\n",
       "0                       2               sqrt               3   \n",
       "1                       6               sqrt               7   \n",
       "2                       4               sqrt               3   \n",
       "3                       6               auto              10   \n",
       "4                       4               auto               3   \n",
       "5                       2               auto              10   \n",
       "6                       4               auto               1   \n",
       "7                       6               sqrt              10   \n",
       "8                       2               auto               3   \n",
       "9                       6               sqrt               1   \n",
       "\n",
       "                                              params  split0_test_score  \\\n",
       "0  {'min_samples_split': 2, 'max_features': 'sqrt...           0.113369   \n",
       "1  {'min_samples_split': 6, 'max_features': 'sqrt...           0.581659   \n",
       "2  {'min_samples_split': 4, 'max_features': 'sqrt...           0.139243   \n",
       "3  {'min_samples_split': 6, 'max_features': 'auto...           0.528248   \n",
       "4  {'min_samples_split': 4, 'max_features': 'auto...           0.330910   \n",
       "5  {'min_samples_split': 2, 'max_features': 'auto...           0.627415   \n",
       "6  {'min_samples_split': 4, 'max_features': 'auto...          -0.609861   \n",
       "7  {'min_samples_split': 6, 'max_features': 'sqrt...           0.313113   \n",
       "8  {'min_samples_split': 2, 'max_features': 'auto...           0.330910   \n",
       "9  {'min_samples_split': 6, 'max_features': 'sqrt...          -0.612135   \n",
       "\n",
       "   split1_test_score  split2_test_score  split3_test_score  split4_test_score  \\\n",
       "0           0.316511           0.289032           0.099903          -1.558244   \n",
       "1          -0.403671           0.316302           0.634330          -1.136214   \n",
       "2           0.103458           0.590933           0.223150          -0.652125   \n",
       "3           0.384625           0.612619           0.712196          -0.835237   \n",
       "4           0.442759           0.598529           0.467877          -1.696249   \n",
       "5           0.484358           0.623524           0.782944          -0.918258   \n",
       "6          -0.055477          -0.113478          -0.525901          -0.971403   \n",
       "7           0.263491           0.152130           0.592755          -1.074489   \n",
       "8           0.442759           0.598529           0.467877          -1.696249   \n",
       "9          -0.152637           0.154432          -0.525901          -0.971403   \n",
       "\n",
       "   mean_test_score  std_test_score  rank_test_score  \n",
       "0        -0.147886        0.710679                8  \n",
       "1        -0.001519        0.677447                7  \n",
       "2         0.080932        0.405366                3  \n",
       "3         0.280490        0.568112                2  \n",
       "4         0.028765        0.866695                5  \n",
       "5         0.319997        0.626298                1  \n",
       "6        -0.455224        0.338212               10  \n",
       "7         0.049400        0.580395                4  \n",
       "8         0.028765        0.866695                5  \n",
       "9        -0.421529        0.388232                9  "
      ]
     },
     "execution_count": 73,
     "metadata": {},
     "output_type": "execute_result"
    }
   ],
   "source": [
    "pd.DataFrame(clf.cv_results_)"
   ]
  }
 ],
 "metadata": {
  "kernelspec": {
   "display_name": "Python 3",
   "language": "python",
   "name": "python3"
  },
  "language_info": {
   "codemirror_mode": {
    "name": "ipython",
    "version": 3
   },
   "file_extension": ".py",
   "mimetype": "text/x-python",
   "name": "python",
   "nbconvert_exporter": "python",
   "pygments_lexer": "ipython3",
   "version": "3.7.3"
  }
 },
 "nbformat": 4,
 "nbformat_minor": 2
}
